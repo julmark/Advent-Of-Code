{
 "cells": [
  {
   "cell_type": "code",
   "execution_count": 1,
   "id": "1b59fa2b",
   "metadata": {},
   "outputs": [],
   "source": [
    "import pandas as pd\n",
    "import numpy as np\n",
    "import warnings\n",
    "warnings.filterwarnings('ignore')"
   ]
  },
  {
   "cell_type": "markdown",
   "id": "2b571906",
   "metadata": {},
   "source": [
    "# Day 17: Trick Shot"
   ]
  },
  {
   "cell_type": "markdown",
   "id": "a19c1875",
   "metadata": {},
   "source": [
    "* target area test: x=20..30, y=-10..-5\n",
    "* target area: x=201..230, y=-99..-65"
   ]
  },
  {
   "cell_type": "code",
   "execution_count": 108,
   "id": "d07bd642",
   "metadata": {},
   "outputs": [],
   "source": [
    "#x1 = 20\n",
    "#x2 = 30\n",
    "#y1 = -5\n",
    "#y2 = -10"
   ]
  },
  {
   "cell_type": "code",
   "execution_count": 171,
   "id": "8b232a38",
   "metadata": {},
   "outputs": [],
   "source": [
    "x1 = 201\n",
    "x2 = 230\n",
    "y1 = -65\n",
    "y2 = -99"
   ]
  },
  {
   "cell_type": "code",
   "execution_count": 172,
   "id": "dd38e7d4",
   "metadata": {},
   "outputs": [],
   "source": [
    "try_list = [(x,y) for x in range(-x2,x2+1) for y in range(y2,-y2)]"
   ]
  },
  {
   "cell_type": "code",
   "execution_count": 173,
   "id": "8d8d1dda",
   "metadata": {},
   "outputs": [],
   "source": [
    "dict_y = {}\n",
    "max_y = 0\n",
    "dict_y[(velo_x,velo_y)] = y"
   ]
  },
  {
   "cell_type": "code",
   "execution_count": 174,
   "id": "2efe1629",
   "metadata": {},
   "outputs": [],
   "source": [
    "#try_list = [(7,2),(6,3),(9,0),(17,4),(6,9)]"
   ]
  },
  {
   "cell_type": "code",
   "execution_count": 175,
   "id": "a972584d",
   "metadata": {},
   "outputs": [],
   "source": [
    "target_list = try_list.copy()"
   ]
  },
  {
   "cell_type": "code",
   "execution_count": 176,
   "id": "e9c7b2e4",
   "metadata": {},
   "outputs": [],
   "source": [
    "for velo in try_list:\n",
    "    x = 0\n",
    "    y = 0\n",
    "    velo_x = velo[0]\n",
    "    velo_y = velo[1]\n",
    "\n",
    "    while not (x1 <= x <= x2 and y2 <= y <= y1):\n",
    "        if x > x2 or y < y2:\n",
    "            target_list.remove(velo)\n",
    "            #print('break: ' + str(velo) + ' at ' + str((x,y)))\n",
    "            break\n",
    "        else:\n",
    "            x += velo_x\n",
    "            try:\n",
    "                velo_x = velo_x - (velo_x/abs(velo_x))\n",
    "                #print('new x ' + str(velo_x))\n",
    "            except ZeroDivisionError as error:\n",
    "                velo_x = velo_x\n",
    "                #print('zero x ' + str(velo_x))\n",
    "\n",
    "            y += velo_y\n",
    "            velo_y -= 1\n",
    "\n",
    "            if y > max_y:\n",
    "                max_y = y\n",
    "                dict_y[velo] = y\n",
    "\n",
    "    #print((x,y))"
   ]
  },
  {
   "cell_type": "code",
   "execution_count": 177,
   "id": "c44cfd9b",
   "metadata": {},
   "outputs": [
    {
     "data": {
      "text/plain": [
       "1739"
      ]
     },
     "execution_count": 177,
     "metadata": {},
     "output_type": "execute_result"
    }
   ],
   "source": [
    "len(target_list)"
   ]
  },
  {
   "cell_type": "code",
   "execution_count": null,
   "id": "130e1116",
   "metadata": {},
   "outputs": [],
   "source": []
  }
 ],
 "metadata": {
  "kernelspec": {
   "display_name": "Python 3",
   "language": "python",
   "name": "python3"
  },
  "language_info": {
   "codemirror_mode": {
    "name": "ipython",
    "version": 3
   },
   "file_extension": ".py",
   "mimetype": "text/x-python",
   "name": "python",
   "nbconvert_exporter": "python",
   "pygments_lexer": "ipython3",
   "version": "3.8.8"
  }
 },
 "nbformat": 4,
 "nbformat_minor": 5
}
