{
 "cells": [
  {
   "cell_type": "code",
   "execution_count": 1,
   "id": "77140d50",
   "metadata": {},
   "outputs": [],
   "source": [
    "import pandas as pd\n",
    "import numpy as np\n",
    "import warnings\n",
    "warnings.filterwarnings('ignore')"
   ]
  },
  {
   "cell_type": "code",
   "execution_count": 396,
   "id": "5cb42b30",
   "metadata": {},
   "outputs": [],
   "source": [
    "df = pd.read_csv('20211209_aoc_input_2.csv',header=None,dtype=str)"
   ]
  },
  {
   "cell_type": "code",
   "execution_count": 397,
   "id": "2dbb6456",
   "metadata": {},
   "outputs": [],
   "source": [
    "df = df[0].str.split(expand=True,pat='') #.drop([0,11],axis=1)"
   ]
  },
  {
   "cell_type": "code",
   "execution_count": 399,
   "id": "a22ed6be",
   "metadata": {},
   "outputs": [],
   "source": [
    "df[0] = 99\n",
    "df[df.shape[1]-1] = 99\n",
    "df = df.astype(int)"
   ]
  },
  {
   "cell_type": "code",
   "execution_count": 400,
   "id": "d9d41033",
   "metadata": {},
   "outputs": [],
   "source": [
    "first_row = pd.DataFrame([[99 for x in range(df.shape[1])]], columns=[x for x in range(df.shape[1])])"
   ]
  },
  {
   "cell_type": "code",
   "execution_count": 401,
   "id": "333c826e",
   "metadata": {},
   "outputs": [],
   "source": [
    "df = first_row.append(df)"
   ]
  },
  {
   "cell_type": "code",
   "execution_count": 402,
   "id": "c88aedf0",
   "metadata": {},
   "outputs": [],
   "source": [
    "df = df.append(first_row)"
   ]
  },
  {
   "cell_type": "code",
   "execution_count": 403,
   "id": "5ee10bd7",
   "metadata": {},
   "outputs": [],
   "source": [
    "df = df.reset_index(drop=True)"
   ]
  },
  {
   "cell_type": "code",
   "execution_count": 404,
   "id": "f2104864",
   "metadata": {},
   "outputs": [],
   "source": [
    "df_search = df.copy()"
   ]
  },
  {
   "cell_type": "code",
   "execution_count": 405,
   "id": "154ca86b",
   "metadata": {},
   "outputs": [],
   "source": [
    "ls_low = []\n",
    "for i in range(1,df.shape[0]-1):\n",
    "    for j in range(1,df.shape[1]-1):\n",
    "        if ((df.loc[i,j] < df.loc[i-1,j])\n",
    "            & (df.loc[i,j] < df.loc[i,j+1])\n",
    "            & (df.loc[i,j] < df.loc[i+1,j])\n",
    "            & (df.loc[i,j] < df.loc[i,j-1])):\n",
    "            df_search.loc[i,j] = 1\n",
    "            ls_low.append((i,j))\n",
    "        else:\n",
    "            df_search.loc[i,j] = 0"
   ]
  },
  {
   "cell_type": "code",
   "execution_count": 406,
   "id": "87bf30b4",
   "metadata": {},
   "outputs": [],
   "source": [
    "num_lows = len(ls_low)"
   ]
  },
  {
   "cell_type": "code",
   "execution_count": 407,
   "id": "68b92a14",
   "metadata": {},
   "outputs": [
    {
     "data": {
      "text/plain": [
       "554.0"
      ]
     },
     "execution_count": 407,
     "metadata": {},
     "output_type": "execute_result"
    }
   ],
   "source": [
    "result = df[df_search==1].sum().sum() + num_lows\n",
    "result"
   ]
  },
  {
   "cell_type": "code",
   "execution_count": 409,
   "id": "c94d58af",
   "metadata": {},
   "outputs": [],
   "source": [
    "d_basin = {}\n",
    "\n",
    "for ind in range(len(ls_low)):\n",
    "    ls_basin_low = []\n",
    "    ls_basin_new = []\n",
    "    ls_basin_low.append((ls_low[ind][0],ls_low[ind][1]))\n",
    "    ls_basin_new.append((ls_low[ind][0],ls_low[ind][1]))  \n",
    "    \n",
    "    while ls_basin_new:\n",
    "        dot = ls_basin_new[0]\n",
    "        #print(dot)\n",
    "\n",
    "        if ((df.loc[dot[0]-1,dot[1]] < 9) & ((dot[0]-1,dot[1]) not in ls_basin_low)):\n",
    "            #print('up: ' + str(dot))\n",
    "            ls_basin_low.append((dot[0]-1,dot[1]))\n",
    "            ls_basin_new.append((dot[0]-1,dot[1]))\n",
    "        if ((df.loc[dot[0],dot[1]+1] < 9) & ((dot[0],dot[1]+1) not in ls_basin_low)):\n",
    "            #print('right: ' + str(dot))\n",
    "            ls_basin_low.append((dot[0],dot[1]+1))\n",
    "            ls_basin_new.append((dot[0],dot[1]+1))\n",
    "        if ((df.loc[dot[0]+1,dot[1]] < 9) & ((dot[0]+1,dot[1]) not in ls_basin_low)):\n",
    "            #print('down: ' + str(dot))\n",
    "            ls_basin_low.append((dot[0]+1,dot[1]))\n",
    "            ls_basin_new.append((dot[0]+1,dot[1]))\n",
    "        if ((df.loc[dot[0],dot[1]-1] < 9) & ((dot[0],dot[1]-1) not in ls_basin_low)):\n",
    "            #print('left: ' + str(dot))\n",
    "            ls_basin_low.append((dot[0],dot[1]-1))\n",
    "            ls_basin_new.append((dot[0],dot[1]-1))\n",
    "\n",
    "        if dot in ls_basin_low:\n",
    "            #print('remove ' + str(dot) + ' from new')\n",
    "            ls_basin_new.remove(dot)\n",
    "    \n",
    "    d_basin[ls_low[ind]] = len(ls_basin_low)\n"
   ]
  },
  {
   "cell_type": "code",
   "execution_count": 410,
   "id": "11a97684",
   "metadata": {},
   "outputs": [],
   "source": [
    "max_basin = sorted(d_basin.values())[-3:]"
   ]
  },
  {
   "cell_type": "code",
   "execution_count": 411,
   "id": "81aa9498",
   "metadata": {},
   "outputs": [
    {
     "data": {
      "text/plain": [
       "1017792"
      ]
     },
     "execution_count": 411,
     "metadata": {},
     "output_type": "execute_result"
    }
   ],
   "source": [
    "result = max_basin[0]*max_basin[1]*max_basin[2]\n",
    "result"
   ]
  }
 ],
 "metadata": {
  "kernelspec": {
   "display_name": "Python 3",
   "language": "python",
   "name": "python3"
  },
  "language_info": {
   "codemirror_mode": {
    "name": "ipython",
    "version": 3
   },
   "file_extension": ".py",
   "mimetype": "text/x-python",
   "name": "python",
   "nbconvert_exporter": "python",
   "pygments_lexer": "ipython3",
   "version": "3.8.8"
  }
 },
 "nbformat": 4,
 "nbformat_minor": 5
}
