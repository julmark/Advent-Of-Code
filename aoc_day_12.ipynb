{
 "cells": [
  {
   "cell_type": "code",
   "execution_count": 1,
   "id": "93d9d115",
   "metadata": {},
   "outputs": [],
   "source": [
    "import pandas as pd\n",
    "import numpy as np\n",
    "import warnings\n",
    "warnings.filterwarnings('ignore')"
   ]
  },
  {
   "cell_type": "markdown",
   "id": "cf222b91",
   "metadata": {},
   "source": [
    "# Day 12: Passage Pathing"
   ]
  },
  {
   "cell_type": "code",
   "execution_count": 825,
   "id": "7af97659",
   "metadata": {},
   "outputs": [],
   "source": [
    "df_input = pd.read_excel('20211212_aoc_input.xlsx',header=None,sheet_name='Tabelle1',dtype=str)"
   ]
  },
  {
   "cell_type": "code",
   "execution_count": 826,
   "id": "1e8f36ed",
   "metadata": {},
   "outputs": [],
   "source": [
    "df = df_input[0].str.split(expand=True,pat='-')"
   ]
  },
  {
   "cell_type": "code",
   "execution_count": 827,
   "id": "dafd012f",
   "metadata": {},
   "outputs": [],
   "source": [
    "df.columns = ['s','e']"
   ]
  },
  {
   "cell_type": "code",
   "execution_count": 828,
   "id": "f11153e6",
   "metadata": {},
   "outputs": [
    {
     "data": {
      "text/plain": [
       "['II', 'JR', 'LA', 'SQ', 'XW', 'cc', 'ed', 'eq', 'kl', 'ns', 'start', 'tk']"
      ]
     },
     "execution_count": 828,
     "metadata": {},
     "output_type": "execute_result"
    }
   ],
   "source": [
    "nodes = list(np.unique(df.values.ravel()))\n",
    "nodes.remove('end')\n",
    "nodes"
   ]
  },
  {
   "cell_type": "code",
   "execution_count": 829,
   "id": "39aa235d",
   "metadata": {},
   "outputs": [],
   "source": [
    "edges = []\n",
    "next_1 = []\n",
    "next_2 = []\n",
    "next_nodes = []\n",
    "\n",
    "for node in nodes:\n",
    "    next_nodes = df.loc[df.s == node,'e'].to_list()\n",
    "    next_2 = df.loc[df.e == node,'s'].to_list()\n",
    "    next_nodes.extend(next_2)\n",
    "    if 'start' in next_nodes:\n",
    "        next_nodes.remove('start')\n",
    "    edges.extend([(node,x) for x in next_nodes])"
   ]
  },
  {
   "cell_type": "code",
   "execution_count": 830,
   "id": "e3d99e7c",
   "metadata": {},
   "outputs": [],
   "source": [
    "df_edges = pd.DataFrame(edges,columns=['s','e'])"
   ]
  },
  {
   "cell_type": "code",
   "execution_count": 831,
   "id": "85b2d8b1",
   "metadata": {},
   "outputs": [],
   "source": [
    "df = df_edges.copy()"
   ]
  },
  {
   "cell_type": "code",
   "execution_count": 832,
   "id": "1243f2c4",
   "metadata": {},
   "outputs": [],
   "source": [
    "df = df_edges.copy()\n",
    "path_temp = [['start']]\n",
    "path_final = []\n",
    "while path_temp:\n",
    "    for node in path_temp:\n",
    "        #df = df_edges.copy()\n",
    "        if node[-1] == 'end':\n",
    "            path_final.append(node)\n",
    "            path_temp.remove(node)\n",
    "        else:\n",
    "            next_nodes = list(df.loc[df.s == node[-1],'e'].values)\n",
    "            for nn in next_nodes:\n",
    "                if (node[-1],nn) in [(node[i],node[i+1]) for i in range(len(node)-1)]:\n",
    "                    continue\n",
    "                    #next_nodes.remove(nn)\n",
    "                elif (nn == nn.lower() and nn in node):\n",
    "                    continue\n",
    "                    #next_nodes.remove(nn)\n",
    "                else:\n",
    "                    path_temp.append(node+[nn])\n",
    "                #df = df.loc[(df.s != node[-1]) | (df.e != nn)]\n",
    "            path_temp.remove(node)"
   ]
  },
  {
   "cell_type": "code",
   "execution_count": 833,
   "id": "f14fba85",
   "metadata": {},
   "outputs": [
    {
     "data": {
      "text/plain": [
       "3679"
      ]
     },
     "execution_count": 833,
     "metadata": {},
     "output_type": "execute_result"
    }
   ],
   "source": [
    "len(path_final)"
   ]
  },
  {
   "cell_type": "code",
   "execution_count": 834,
   "id": "9705c58a",
   "metadata": {},
   "outputs": [],
   "source": [
    "def contains_small_cave_twice(lst):\n",
    "    for cave in set(lst):\n",
    "        if ((lst.count(cave) > 1) & (cave.lower() == cave)):\n",
    "            return True\n",
    "        else:\n",
    "            continue\n",
    "    return False"
   ]
  },
  {
   "cell_type": "code",
   "execution_count": 835,
   "id": "3a0ea50e",
   "metadata": {},
   "outputs": [],
   "source": [
    "df = df_edges.copy()\n",
    "path_temp = [['start']]\n",
    "path_final = []\n",
    "while path_temp:\n",
    "    for node in path_temp:\n",
    "        #df = df_edges.copy()\n",
    "        if node[-1] == 'end':\n",
    "            path_final.append(node)\n",
    "            path_temp.remove(node)\n",
    "        else:\n",
    "            next_nodes = list(df.loc[df.s == node[-1],'e'].values)\n",
    "            for nn in next_nodes:\n",
    "                if contains_small_cave_twice(node) & (nn in node) & (nn.lower() == nn):\n",
    "                    #print(nn + ': small cave')\n",
    "                    continue\n",
    "                else:\n",
    "                    #print(str(node+[nn]))\n",
    "                    path_temp.append(node+[nn])\n",
    "            path_temp.remove(node)"
   ]
  },
  {
   "cell_type": "code",
   "execution_count": 836,
   "id": "18ba2357",
   "metadata": {},
   "outputs": [
    {
     "data": {
      "text/plain": [
       "107395"
      ]
     },
     "execution_count": 836,
     "metadata": {},
     "output_type": "execute_result"
    }
   ],
   "source": [
    "len(path_final)"
   ]
  },
  {
   "cell_type": "code",
   "execution_count": null,
   "id": "41db48b7",
   "metadata": {},
   "outputs": [],
   "source": []
  }
 ],
 "metadata": {
  "kernelspec": {
   "display_name": "Python 3",
   "language": "python",
   "name": "python3"
  },
  "language_info": {
   "codemirror_mode": {
    "name": "ipython",
    "version": 3
   },
   "file_extension": ".py",
   "mimetype": "text/x-python",
   "name": "python",
   "nbconvert_exporter": "python",
   "pygments_lexer": "ipython3",
   "version": "3.8.8"
  }
 },
 "nbformat": 4,
 "nbformat_minor": 5
}
