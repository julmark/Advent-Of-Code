{
 "cells": [
  {
   "cell_type": "code",
   "execution_count": 1,
   "id": "0e244a83",
   "metadata": {},
   "outputs": [],
   "source": [
    "import pandas as pd\n",
    "import numpy as np\n",
    "import warnings\n",
    "warnings.filterwarnings('ignore')"
   ]
  },
  {
   "cell_type": "markdown",
   "id": "4b87c23e",
   "metadata": {},
   "source": [
    "# Day 10: Syntax Scoring"
   ]
  },
  {
   "cell_type": "code",
   "execution_count": 162,
   "id": "b098b09c",
   "metadata": {},
   "outputs": [],
   "source": [
    "df_input = pd.read_excel('20211210_aoc_input.xlsx',header=None,sheet_name='Tabelle1')"
   ]
  },
  {
   "cell_type": "markdown",
   "id": "5a03cd1f",
   "metadata": {},
   "source": [
    "## Part 1"
   ]
  },
  {
   "cell_type": "code",
   "execution_count": 88,
   "id": "6bce5e43",
   "metadata": {},
   "outputs": [],
   "source": [
    "ls = []\n",
    "for row in df_input.iterrows():\n",
    "    string = row[1].values[0]\n",
    "    len_diff = 99\n",
    "\n",
    "    while len_diff > 0:\n",
    "        #print(len_diff)\n",
    "        len_1 = len(string)\n",
    "        string = string.replace(\"()\",\"\")\n",
    "        string = string.replace(\"[]\",\"\")\n",
    "        string = string.replace(\"{}\",\"\")\n",
    "        string = string.replace(\"<>\",\"\")\n",
    "        len_2 = len(string)\n",
    "\n",
    "        len_diff = len_1 - len_2\n",
    "\n",
    "    string = string.replace(\"(\",\"\")\n",
    "    string = string.replace(\"[\",\"\")\n",
    "    string = string.replace(\"{\",\"\")\n",
    "    string = string.replace(\"<\",\"\")\n",
    "\n",
    "    result_row = string[:1]\n",
    "    #print(result_row)\n",
    "    if result_row != '':\n",
    "        ls.append(result_row)"
   ]
  },
  {
   "cell_type": "code",
   "execution_count": 90,
   "id": "9915e240",
   "metadata": {},
   "outputs": [
    {
     "data": {
      "text/plain": [
       "392097"
      ]
     },
     "execution_count": 90,
     "metadata": {},
     "output_type": "execute_result"
    }
   ],
   "source": [
    "result = 0\n",
    "for el in ls:\n",
    "    if el == ')':\n",
    "        result = result + 3\n",
    "    elif el == ']':\n",
    "        result = result + 57\n",
    "    elif el == '}':\n",
    "        result = result + 1197\n",
    "    elif el == '>':\n",
    "        result = result + 25137\n",
    "\n",
    "result"
   ]
  },
  {
   "cell_type": "markdown",
   "id": "40899e66",
   "metadata": {},
   "source": [
    "## Part 2"
   ]
  },
  {
   "cell_type": "code",
   "execution_count": 163,
   "id": "9205a29e",
   "metadata": {},
   "outputs": [],
   "source": [
    "ls_compl = []\n",
    "for row in df_input.iterrows():\n",
    "    string = row[1].values[0]\n",
    "    len_diff = 99\n",
    "\n",
    "    while len_diff > 0:\n",
    "        #print(len_diff)\n",
    "        len_1 = len(string)\n",
    "        string = string.replace(\"()\",\"\")\n",
    "        string = string.replace(\"[]\",\"\")\n",
    "        string = string.replace(\"{}\",\"\")\n",
    "        string = string.replace(\"<>\",\"\")\n",
    "        len_2 = len(string)\n",
    "\n",
    "        len_diff = len_1 - len_2\n",
    "\n",
    "    if (')' not in string) and (']' not in string) and ('}' not in string) and ('>' not in string):\n",
    "        ls_compl.append(string)"
   ]
  },
  {
   "cell_type": "code",
   "execution_count": 165,
   "id": "65ee3b6c",
   "metadata": {},
   "outputs": [],
   "source": [
    "ls_result = []\n",
    "for string in ls_compl:\n",
    "    #print(string)\n",
    "    ending = []\n",
    "    ls = list(string)\n",
    "    ls.reverse()\n",
    "    for el in ls:\n",
    "        if el == '(':\n",
    "            el_r = ')'\n",
    "        elif el == '[':\n",
    "            el_r = ']'\n",
    "        elif el == '{':\n",
    "            el_r = '}'\n",
    "        elif el == '<':\n",
    "            el_r = '>'\n",
    "        ending.append(el_r)\n",
    "    \n",
    "    result_ending = 0\n",
    "    for el in ending:\n",
    "        result_ending = result_ending*5\n",
    "        if el == ')':\n",
    "            result_ending = result_ending + 1\n",
    "        elif el == ']':\n",
    "            result_ending = result_ending + 2\n",
    "        elif el == '}':\n",
    "            result_ending = result_ending + 3\n",
    "        elif el == '>':\n",
    "            result_ending = result_ending + 4\n",
    "    \n",
    "    ls_result.append(result_ending)"
   ]
  },
  {
   "cell_type": "code",
   "execution_count": 167,
   "id": "50e8f02e",
   "metadata": {},
   "outputs": [
    {
     "data": {
      "text/plain": [
       "4263222782"
      ]
     },
     "execution_count": 167,
     "metadata": {},
     "output_type": "execute_result"
    }
   ],
   "source": [
    "import statistics\n",
    "result = statistics.median(ls_result)\n",
    "result"
   ]
  },
  {
   "cell_type": "code",
   "execution_count": null,
   "id": "34e89c49",
   "metadata": {},
   "outputs": [],
   "source": []
  }
 ],
 "metadata": {
  "kernelspec": {
   "display_name": "Python 3",
   "language": "python",
   "name": "python3"
  },
  "language_info": {
   "codemirror_mode": {
    "name": "ipython",
    "version": 3
   },
   "file_extension": ".py",
   "mimetype": "text/x-python",
   "name": "python",
   "nbconvert_exporter": "python",
   "pygments_lexer": "ipython3",
   "version": "3.8.8"
  }
 },
 "nbformat": 4,
 "nbformat_minor": 5
}
