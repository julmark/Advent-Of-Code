{
 "cells": [
  {
   "cell_type": "code",
   "execution_count": 1,
   "id": "9d6bf2a1",
   "metadata": {},
   "outputs": [],
   "source": [
    "import pandas as pd\n",
    "import numpy as np\n",
    "import warnings\n",
    "warnings.filterwarnings('ignore')"
   ]
  },
  {
   "cell_type": "markdown",
   "id": "da6e68b0",
   "metadata": {},
   "source": [
    "# Day 14: Extended Polymerization"
   ]
  },
  {
   "cell_type": "code",
   "execution_count": 54,
   "id": "79af072e",
   "metadata": {},
   "outputs": [],
   "source": [
    "df_input = pd.read_excel('20211214_aoc_input.xlsx',header=None,sheet_name='Tabelle1',dtype=str)"
   ]
  },
  {
   "cell_type": "code",
   "execution_count": 55,
   "id": "607ad498",
   "metadata": {},
   "outputs": [],
   "source": [
    "polymer_input = df_input[0].values[0]\n",
    "df = df_input.loc[1:,:]"
   ]
  },
  {
   "cell_type": "code",
   "execution_count": 56,
   "id": "ae44da3d",
   "metadata": {},
   "outputs": [],
   "source": [
    "df = df[0].str.split(expand=True,pat='->')\n",
    "df[0] = df[0].str.rstrip()\n",
    "df[1] = df[1].str.lstrip()"
   ]
  },
  {
   "cell_type": "markdown",
   "id": "cdce920e",
   "metadata": {},
   "source": [
    "## Part 1"
   ]
  },
  {
   "cell_type": "code",
   "execution_count": 90,
   "id": "ce84e0a9",
   "metadata": {},
   "outputs": [
    {
     "data": {
      "text/plain": [
       "'NNCB'"
      ]
     },
     "execution_count": 90,
     "metadata": {},
     "output_type": "execute_result"
    }
   ],
   "source": [
    "polymer_input"
   ]
  },
  {
   "cell_type": "code",
   "execution_count": 160,
   "id": "12a2aad2",
   "metadata": {},
   "outputs": [],
   "source": [
    "polymer = polymer_input\n",
    "polymer_temp = ''\n",
    "for j in range(10):\n",
    "    polymer_temp = ''\n",
    "    for i in range(len(polymer)-1):\n",
    "        #print(polymer[i:i+2])\n",
    "        if i == len(polymer) - 2:\n",
    "            polymer_temp += polymer[i:i+1] + df[1].loc[df[0] == polymer[i:i+2]].values[0] + polymer[i+1:i+2]\n",
    "        else:\n",
    "            polymer_temp += polymer[i:i+1] + df[1].loc[df[0] == polymer[i:i+2]].values[0]\n",
    "        #print('>> step ' + str(j+1) + ': ' + polymer_temp)\n",
    "    \n",
    "    polymer = polymer_temp\n",
    "    j += 1"
   ]
  },
  {
   "cell_type": "code",
   "execution_count": 161,
   "id": "4efbd93e",
   "metadata": {},
   "outputs": [],
   "source": [
    "min_el = 1000\n",
    "max_el = 0\n",
    "for el in set(polymer):\n",
    "    count_el = polymer.count(el)\n",
    "    if count_el < min_el:\n",
    "        min_el = count_el\n",
    "    if count_el > max_el:\n",
    "        max_el = count_el"
   ]
  },
  {
   "cell_type": "code",
   "execution_count": 162,
   "id": "057a419d",
   "metadata": {},
   "outputs": [
    {
     "data": {
      "text/plain": [
       "1588"
      ]
     },
     "execution_count": 162,
     "metadata": {},
     "output_type": "execute_result"
    }
   ],
   "source": [
    "result = max_el - min_el\n",
    "result"
   ]
  },
  {
   "cell_type": "markdown",
   "id": "e168f38f",
   "metadata": {},
   "source": [
    "## Part 2"
   ]
  },
  {
   "cell_type": "code",
   "execution_count": 57,
   "id": "363d26ff",
   "metadata": {},
   "outputs": [
    {
     "data": {
      "text/plain": [
       "'HBCHSNFFVOBNOFHFOBNO'"
      ]
     },
     "execution_count": 57,
     "metadata": {},
     "output_type": "execute_result"
    }
   ],
   "source": [
    "polymer_input"
   ]
  },
  {
   "cell_type": "code",
   "execution_count": 58,
   "id": "d82d1137",
   "metadata": {},
   "outputs": [],
   "source": [
    "df['out_1'] = df[0].str[:1] + df[1]\n",
    "df['out_2'] = df[1] + df[0].str[1:]"
   ]
  },
  {
   "cell_type": "code",
   "execution_count": 59,
   "id": "1293f427",
   "metadata": {},
   "outputs": [],
   "source": [
    "df_output = df[[0]].rename(columns={0:'pair'})\n",
    "df_output['0'] = 0\n",
    "\n",
    "for i in range(len(polymer_input)-1):\n",
    "    df_output.loc[df_output.pair == polymer_input[i:i+2],'0'] += 1"
   ]
  },
  {
   "cell_type": "code",
   "execution_count": 60,
   "id": "0ce6a61b",
   "metadata": {},
   "outputs": [],
   "source": [
    "for s in range(40):\n",
    "    lst_in = df_output.loc[df_output[str(s)] > 0,'pair'].to_list()\n",
    "\n",
    "    df_output[str(s+1)] = df_output[str(s)]\n",
    "    for el in set(lst_in):\n",
    "        out_1 = df[['out_1']].loc[df[0] == el].values[0][0]\n",
    "        df_output.loc[df_output.pair == out_1,str(s+1)] \\\n",
    "            = df_output.loc[df_output.pair == out_1,str(s+1)].values[0] \\\n",
    "                + df_output.loc[df_output.pair == el,str(s)].values[0]\n",
    "        out_2 = df[['out_2']].loc[df[0] == el].values[0][0]\n",
    "        df_output.loc[df_output.pair == out_2,str(s+1)] \\\n",
    "            = df_output.loc[df_output.pair == out_2,str(s+1)].values[0] \\\n",
    "                + df_output.loc[df_output.pair == el,str(s)].values[0]\n",
    "\n",
    "        df_output.loc[df_output.pair == el,str(s+1)] = df_output.loc[df_output.pair == el,str(s+1)]\\\n",
    "                - df_output.loc[df_output.pair == el,str(s)]"
   ]
  },
  {
   "cell_type": "code",
   "execution_count": 61,
   "id": "5256c344",
   "metadata": {},
   "outputs": [],
   "source": [
    "df_result = df_output[['pair','40']]\n",
    "df_result[[1,2]] = df_result.pair.str.split(expand=True,pat='').drop([0,3],axis=1)"
   ]
  },
  {
   "cell_type": "code",
   "execution_count": 62,
   "id": "31e940d3",
   "metadata": {},
   "outputs": [],
   "source": [
    "lst_chars = set(df_result[[1,2]].unstack().to_list())"
   ]
  },
  {
   "cell_type": "code",
   "execution_count": 63,
   "id": "1b1c00a5",
   "metadata": {},
   "outputs": [],
   "source": [
    "min_el = df_result['40'].max()\n",
    "max_el = 0\n",
    "for char in lst_chars:\n",
    "    if char == polymer_input[:1] or char == polymer_input[-1:]:\n",
    "        count_el = (df_result.loc[df_result[1]==char,'40'].append(df_result.loc[df_result[2]==char,'40']).sum() \n",
    "                    + 1) / 2\n",
    "    else:\n",
    "        count_el = (df_result.loc[df_result[1]==char,'40'].append(df_result.loc[df_result[2]==char,'40']).sum()) / 2\n",
    "    print\n",
    "    if count_el < min_el:\n",
    "        min_el = count_el\n",
    "    if count_el > max_el:\n",
    "        max_el = count_el"
   ]
  },
  {
   "cell_type": "code",
   "execution_count": 64,
   "id": "e2097b41",
   "metadata": {},
   "outputs": [
    {
     "data": {
      "text/plain": [
       "3724343376942.0"
      ]
     },
     "execution_count": 64,
     "metadata": {},
     "output_type": "execute_result"
    }
   ],
   "source": [
    "result = max_el - min_el\n",
    "result"
   ]
  },
  {
   "cell_type": "code",
   "execution_count": null,
   "id": "1c4532cc",
   "metadata": {},
   "outputs": [],
   "source": []
  },
  {
   "cell_type": "code",
   "execution_count": null,
   "id": "ee5133d9",
   "metadata": {},
   "outputs": [],
   "source": []
  },
  {
   "cell_type": "code",
   "execution_count": null,
   "id": "afe6f86f",
   "metadata": {},
   "outputs": [],
   "source": [
    "lst_result = []\n",
    "for el in df_output.loc[df_output['40'] > 0,'pair'].to_list():\n",
    "    lst_result.extend([el] * df_output.loc[df_output.pair == el,'40'].values[0])"
   ]
  },
  {
   "cell_type": "code",
   "execution_count": null,
   "id": "f56610d6",
   "metadata": {},
   "outputs": [],
   "source": [
    "len(lst_result)"
   ]
  },
  {
   "cell_type": "code",
   "execution_count": 554,
   "id": "d46cdf97",
   "metadata": {},
   "outputs": [
    {
     "name": "stdout",
     "output_type": "stream",
     "text": [
      ">> count of O is 570.0\n",
      ">> count of H is 3978.0\n",
      ">> count of F is 2711.0\n",
      ">> count of N is 2082.0\n",
      ">> count of B is 1490.0\n",
      ">> count of P is 2643.0\n",
      ">> count of S is 577.0\n",
      ">> count of V is 3056.0\n",
      ">> count of K is 1378.0\n",
      ">> count of C is 972.0\n"
     ]
    }
   ],
   "source": [
    "t = ''.join(lst_result)\n",
    "bn = ['H','O']\n",
    "res = []\n",
    "for el in set(t):\n",
    "    c = t.count(el)\n",
    "    if el in bn:\n",
    "        cc = (c+1)/2\n",
    "    else:\n",
    "        cc = c/2\n",
    "    res.append(cc)\n",
    "    print('>> count of ' + el + ' is ' + str(cc))"
   ]
  },
  {
   "cell_type": "code",
   "execution_count": 550,
   "id": "ffde56a2",
   "metadata": {},
   "outputs": [
    {
     "data": {
      "text/plain": [
       "3408.0"
      ]
     },
     "execution_count": 550,
     "metadata": {},
     "output_type": "execute_result"
    }
   ],
   "source": [
    "max(res) - min(res)"
   ]
  },
  {
   "cell_type": "code",
   "execution_count": null,
   "id": "14151b36",
   "metadata": {},
   "outputs": [],
   "source": []
  }
 ],
 "metadata": {
  "kernelspec": {
   "display_name": "Python 3",
   "language": "python",
   "name": "python3"
  },
  "language_info": {
   "codemirror_mode": {
    "name": "ipython",
    "version": 3
   },
   "file_extension": ".py",
   "mimetype": "text/x-python",
   "name": "python",
   "nbconvert_exporter": "python",
   "pygments_lexer": "ipython3",
   "version": "3.8.8"
  }
 },
 "nbformat": 4,
 "nbformat_minor": 5
}
