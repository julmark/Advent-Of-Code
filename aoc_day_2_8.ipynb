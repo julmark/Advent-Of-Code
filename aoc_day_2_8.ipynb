{
 "cells": [
  {
   "cell_type": "code",
   "execution_count": 1,
   "id": "e95bb68c",
   "metadata": {},
   "outputs": [],
   "source": [
    "import pandas as pd\n",
    "import numpy as np\n",
    "import warnings\n",
    "warnings.filterwarnings('ignore')"
   ]
  },
  {
   "cell_type": "code",
   "execution_count": 2,
   "id": "474173c1",
   "metadata": {},
   "outputs": [
    {
     "data": {
      "text/plain": [
       "'/Users/m304210/workspace'"
      ]
     },
     "execution_count": 2,
     "metadata": {},
     "output_type": "execute_result"
    }
   ],
   "source": [
    "import os\n",
    "os.getcwd()"
   ]
  },
  {
   "cell_type": "markdown",
   "id": "19469a67",
   "metadata": {},
   "source": [
    "# Day 2"
   ]
  },
  {
   "cell_type": "code",
   "execution_count": 53,
   "id": "e106b864",
   "metadata": {},
   "outputs": [],
   "source": [
    "df = pd.read_excel('../Documents/AdventOfCode/20211202_aoc_1.xlsx')"
   ]
  },
  {
   "cell_type": "code",
   "execution_count": 54,
   "id": "0deaa6f8",
   "metadata": {},
   "outputs": [],
   "source": [
    "df[['direction','amount']] = df['col1'].str.split(\" \",expand=True)\n",
    "df.drop('col1',axis=1,inplace=True)\n",
    "df.amount = df.amount.astype(int)"
   ]
  },
  {
   "cell_type": "code",
   "execution_count": 55,
   "id": "8766bd70",
   "metadata": {},
   "outputs": [],
   "source": [
    "df.loc[df.direction == 'up','amount'] = df.amount * (-1)"
   ]
  },
  {
   "cell_type": "code",
   "execution_count": 56,
   "id": "45f1dc81",
   "metadata": {},
   "outputs": [],
   "source": [
    "df.loc[df.direction == 'up','direction'] = 'down'"
   ]
  },
  {
   "cell_type": "code",
   "execution_count": 57,
   "id": "0c4aedfc",
   "metadata": {},
   "outputs": [
    {
     "data": {
      "text/html": [
       "<div>\n",
       "<style scoped>\n",
       "    .dataframe tbody tr th:only-of-type {\n",
       "        vertical-align: middle;\n",
       "    }\n",
       "\n",
       "    .dataframe tbody tr th {\n",
       "        vertical-align: top;\n",
       "    }\n",
       "\n",
       "    .dataframe thead th {\n",
       "        text-align: right;\n",
       "    }\n",
       "</style>\n",
       "<table border=\"1\" class=\"dataframe\">\n",
       "  <thead>\n",
       "    <tr style=\"text-align: right;\">\n",
       "      <th></th>\n",
       "      <th>amount</th>\n",
       "    </tr>\n",
       "    <tr>\n",
       "      <th>direction</th>\n",
       "      <th></th>\n",
       "    </tr>\n",
       "  </thead>\n",
       "  <tbody>\n",
       "    <tr>\n",
       "      <th>down</th>\n",
       "      <td>894</td>\n",
       "    </tr>\n",
       "    <tr>\n",
       "      <th>forward</th>\n",
       "      <td>1857</td>\n",
       "    </tr>\n",
       "  </tbody>\n",
       "</table>\n",
       "</div>"
      ],
      "text/plain": [
       "           amount\n",
       "direction        \n",
       "down          894\n",
       "forward      1857"
      ]
     },
     "execution_count": 57,
     "metadata": {},
     "output_type": "execute_result"
    }
   ],
   "source": [
    "df[['direction','amount']].groupby(['direction']).sum()"
   ]
  },
  {
   "cell_type": "code",
   "execution_count": 58,
   "id": "5efd1d34",
   "metadata": {},
   "outputs": [
    {
     "data": {
      "text/plain": [
       "1660158"
      ]
     },
     "execution_count": 58,
     "metadata": {},
     "output_type": "execute_result"
    }
   ],
   "source": [
    "894*1857"
   ]
  },
  {
   "cell_type": "code",
   "execution_count": 97,
   "id": "c630b4b4",
   "metadata": {},
   "outputs": [],
   "source": [
    "hor = 0\n",
    "dep = 0\n",
    "aim = 0\n",
    "\n",
    "for i in range(len(df)):\n",
    "#    print(i)\n",
    "    if df.direction.iloc[i] == 'down':\n",
    "        aim = aim + df.amount.iloc[i]\n",
    "    elif df.direction.iloc[i] == 'forward':\n",
    "        hor = hor + df.amount.iloc[i]\n",
    "        dep = dep + aim * df.amount.iloc[i]\n",
    "    else:\n",
    "        print(\"error\")\n",
    "        exit\n",
    "#    print(df.iloc[i])\n",
    "#    print(\"hor = \" + str(hor) + \", dep = \" + str(dep) + \", aim = \" + str(aim) + \", result = \" + str(hor*dep))"
   ]
  },
  {
   "cell_type": "code",
   "execution_count": 98,
   "id": "f0e2274f",
   "metadata": {
    "scrolled": true
   },
   "outputs": [
    {
     "data": {
      "text/plain": [
       "1604592846"
      ]
     },
     "execution_count": 98,
     "metadata": {},
     "output_type": "execute_result"
    }
   ],
   "source": [
    "hor*dep"
   ]
  },
  {
   "cell_type": "markdown",
   "id": "ab110fcb",
   "metadata": {},
   "source": [
    "# Day 3"
   ]
  },
  {
   "cell_type": "code",
   "execution_count": 17,
   "id": "da7a4f3a",
   "metadata": {},
   "outputs": [],
   "source": [
    "df_input = pd.read_csv('../Documents/AdventOfCode/20211203_aoc_input.csv',dtype={'input':str})"
   ]
  },
  {
   "cell_type": "code",
   "execution_count": 134,
   "id": "9c280229",
   "metadata": {},
   "outputs": [],
   "source": [
    "df = pd.DataFrame(df_input.input.apply(lambda x: pd.Series(list(x))))"
   ]
  },
  {
   "cell_type": "code",
   "execution_count": 135,
   "id": "4245bcdb",
   "metadata": {},
   "outputs": [],
   "source": [
    "df.columns = ['seq_1','seq_2','seq_3','seq_4','seq_5','seq_6',\n",
    "              'seq_7','seq_8','seq_9','seq_10','seq_11','seq_12']"
   ]
  },
  {
   "cell_type": "code",
   "execution_count": 114,
   "id": "6fe6f2f6",
   "metadata": {},
   "outputs": [],
   "source": [
    "df_result = pd.DataFrame(columns=['col_name','num_0','num_1'])\n",
    "for col in df.columns:\n",
    "    num_0 = df[col].value_counts()['0']\n",
    "    num_1 = df[col].value_counts()['1']\n",
    "    df_temp = pd.DataFrame([[col,num_0,num_1]],columns=['col_name','num_0','num_1'])\n",
    "    df_result = df_result.append(df_temp)"
   ]
  },
  {
   "cell_type": "code",
   "execution_count": 124,
   "id": "fbc1967c",
   "metadata": {},
   "outputs": [
    {
     "data": {
      "text/plain": [
       "3827"
      ]
     },
     "execution_count": 124,
     "metadata": {},
     "output_type": "execute_result"
    }
   ],
   "source": [
    "df_result.loc[df_result.num_0 > df_result.num_1,'most_common_value'] = 0\n",
    "df_result.loc[df_result.num_0 < df_result.num_1,'most_common_value'] = 1\n",
    "\n",
    "df_result.most_common_value = df_result.most_common_value.astype(int).astype(str)\n",
    "\n",
    "gamma_rate_list = df_result.most_common_value.to_list()\n",
    "gamma_rate = int(''.join(gamma_rate_list),2)\n",
    "\n",
    "gamma_rate"
   ]
  },
  {
   "cell_type": "code",
   "execution_count": 123,
   "id": "f3b3eb18",
   "metadata": {},
   "outputs": [
    {
     "data": {
      "text/plain": [
       "268"
      ]
     },
     "execution_count": 123,
     "metadata": {},
     "output_type": "execute_result"
    }
   ],
   "source": [
    "df_result.loc[df_result.num_0 > df_result.num_1,'least_common_value'] = 1\n",
    "df_result.loc[df_result.num_0 < df_result.num_1,'least_common_value'] = 0\n",
    "\n",
    "df_result.least_common_value = df_result.least_common_value.astype(int).astype(str)\n",
    "\n",
    "epsilon_rate_list = df_result.least_common_value.to_list()\n",
    "epsilon_rate = int(''.join(epsilon_rate_list),2)\n",
    "\n",
    "epsilon_rate"
   ]
  },
  {
   "cell_type": "code",
   "execution_count": 126,
   "id": "8e5a452f",
   "metadata": {},
   "outputs": [
    {
     "data": {
      "text/plain": [
       "1025636"
      ]
     },
     "execution_count": 126,
     "metadata": {},
     "output_type": "execute_result"
    }
   ],
   "source": [
    "result = gamma_rate * epsilon_rate\n",
    "result"
   ]
  },
  {
   "cell_type": "code",
   "execution_count": 136,
   "id": "e97f89dc",
   "metadata": {},
   "outputs": [
    {
     "data": {
      "text/html": [
       "<div>\n",
       "<style scoped>\n",
       "    .dataframe tbody tr th:only-of-type {\n",
       "        vertical-align: middle;\n",
       "    }\n",
       "\n",
       "    .dataframe tbody tr th {\n",
       "        vertical-align: top;\n",
       "    }\n",
       "\n",
       "    .dataframe thead th {\n",
       "        text-align: right;\n",
       "    }\n",
       "</style>\n",
       "<table border=\"1\" class=\"dataframe\">\n",
       "  <thead>\n",
       "    <tr style=\"text-align: right;\">\n",
       "      <th></th>\n",
       "      <th>seq_1</th>\n",
       "      <th>seq_2</th>\n",
       "      <th>seq_3</th>\n",
       "      <th>seq_4</th>\n",
       "      <th>seq_5</th>\n",
       "      <th>seq_6</th>\n",
       "      <th>seq_7</th>\n",
       "      <th>seq_8</th>\n",
       "      <th>seq_9</th>\n",
       "      <th>seq_10</th>\n",
       "      <th>seq_11</th>\n",
       "      <th>seq_12</th>\n",
       "    </tr>\n",
       "  </thead>\n",
       "  <tbody>\n",
       "    <tr>\n",
       "      <th>0</th>\n",
       "      <td>1</td>\n",
       "      <td>1</td>\n",
       "      <td>1</td>\n",
       "      <td>0</td>\n",
       "      <td>1</td>\n",
       "      <td>1</td>\n",
       "      <td>0</td>\n",
       "      <td>0</td>\n",
       "      <td>1</td>\n",
       "      <td>0</td>\n",
       "      <td>1</td>\n",
       "      <td>0</td>\n",
       "    </tr>\n",
       "    <tr>\n",
       "      <th>1</th>\n",
       "      <td>0</td>\n",
       "      <td>1</td>\n",
       "      <td>0</td>\n",
       "      <td>0</td>\n",
       "      <td>1</td>\n",
       "      <td>1</td>\n",
       "      <td>1</td>\n",
       "      <td>0</td>\n",
       "      <td>1</td>\n",
       "      <td>1</td>\n",
       "      <td>1</td>\n",
       "      <td>0</td>\n",
       "    </tr>\n",
       "    <tr>\n",
       "      <th>2</th>\n",
       "      <td>1</td>\n",
       "      <td>1</td>\n",
       "      <td>0</td>\n",
       "      <td>0</td>\n",
       "      <td>0</td>\n",
       "      <td>1</td>\n",
       "      <td>0</td>\n",
       "      <td>0</td>\n",
       "      <td>1</td>\n",
       "      <td>0</td>\n",
       "      <td>1</td>\n",
       "      <td>0</td>\n",
       "    </tr>\n",
       "    <tr>\n",
       "      <th>3</th>\n",
       "      <td>0</td>\n",
       "      <td>0</td>\n",
       "      <td>1</td>\n",
       "      <td>1</td>\n",
       "      <td>0</td>\n",
       "      <td>1</td>\n",
       "      <td>0</td>\n",
       "      <td>1</td>\n",
       "      <td>1</td>\n",
       "      <td>1</td>\n",
       "      <td>0</td>\n",
       "      <td>1</td>\n",
       "    </tr>\n",
       "    <tr>\n",
       "      <th>4</th>\n",
       "      <td>1</td>\n",
       "      <td>1</td>\n",
       "      <td>0</td>\n",
       "      <td>1</td>\n",
       "      <td>0</td>\n",
       "      <td>0</td>\n",
       "      <td>0</td>\n",
       "      <td>0</td>\n",
       "      <td>0</td>\n",
       "      <td>0</td>\n",
       "      <td>1</td>\n",
       "      <td>1</td>\n",
       "    </tr>\n",
       "    <tr>\n",
       "      <th>...</th>\n",
       "      <td>...</td>\n",
       "      <td>...</td>\n",
       "      <td>...</td>\n",
       "      <td>...</td>\n",
       "      <td>...</td>\n",
       "      <td>...</td>\n",
       "      <td>...</td>\n",
       "      <td>...</td>\n",
       "      <td>...</td>\n",
       "      <td>...</td>\n",
       "      <td>...</td>\n",
       "      <td>...</td>\n",
       "    </tr>\n",
       "    <tr>\n",
       "      <th>995</th>\n",
       "      <td>1</td>\n",
       "      <td>0</td>\n",
       "      <td>0</td>\n",
       "      <td>0</td>\n",
       "      <td>0</td>\n",
       "      <td>1</td>\n",
       "      <td>0</td>\n",
       "      <td>1</td>\n",
       "      <td>1</td>\n",
       "      <td>1</td>\n",
       "      <td>1</td>\n",
       "      <td>1</td>\n",
       "    </tr>\n",
       "    <tr>\n",
       "      <th>996</th>\n",
       "      <td>0</td>\n",
       "      <td>1</td>\n",
       "      <td>0</td>\n",
       "      <td>0</td>\n",
       "      <td>0</td>\n",
       "      <td>0</td>\n",
       "      <td>1</td>\n",
       "      <td>1</td>\n",
       "      <td>1</td>\n",
       "      <td>1</td>\n",
       "      <td>0</td>\n",
       "      <td>1</td>\n",
       "    </tr>\n",
       "    <tr>\n",
       "      <th>997</th>\n",
       "      <td>1</td>\n",
       "      <td>0</td>\n",
       "      <td>0</td>\n",
       "      <td>0</td>\n",
       "      <td>1</td>\n",
       "      <td>1</td>\n",
       "      <td>1</td>\n",
       "      <td>0</td>\n",
       "      <td>0</td>\n",
       "      <td>0</td>\n",
       "      <td>0</td>\n",
       "      <td>1</td>\n",
       "    </tr>\n",
       "    <tr>\n",
       "      <th>998</th>\n",
       "      <td>1</td>\n",
       "      <td>0</td>\n",
       "      <td>1</td>\n",
       "      <td>1</td>\n",
       "      <td>0</td>\n",
       "      <td>0</td>\n",
       "      <td>0</td>\n",
       "      <td>1</td>\n",
       "      <td>1</td>\n",
       "      <td>0</td>\n",
       "      <td>1</td>\n",
       "      <td>0</td>\n",
       "    </tr>\n",
       "    <tr>\n",
       "      <th>999</th>\n",
       "      <td>1</td>\n",
       "      <td>0</td>\n",
       "      <td>0</td>\n",
       "      <td>1</td>\n",
       "      <td>1</td>\n",
       "      <td>0</td>\n",
       "      <td>1</td>\n",
       "      <td>0</td>\n",
       "      <td>0</td>\n",
       "      <td>0</td>\n",
       "      <td>0</td>\n",
       "      <td>0</td>\n",
       "    </tr>\n",
       "  </tbody>\n",
       "</table>\n",
       "<p>1000 rows × 12 columns</p>\n",
       "</div>"
      ],
      "text/plain": [
       "    seq_1 seq_2 seq_3 seq_4 seq_5 seq_6 seq_7 seq_8 seq_9 seq_10 seq_11 seq_12\n",
       "0       1     1     1     0     1     1     0     0     1      0      1      0\n",
       "1       0     1     0     0     1     1     1     0     1      1      1      0\n",
       "2       1     1     0     0     0     1     0     0     1      0      1      0\n",
       "3       0     0     1     1     0     1     0     1     1      1      0      1\n",
       "4       1     1     0     1     0     0     0     0     0      0      1      1\n",
       "..    ...   ...   ...   ...   ...   ...   ...   ...   ...    ...    ...    ...\n",
       "995     1     0     0     0     0     1     0     1     1      1      1      1\n",
       "996     0     1     0     0     0     0     1     1     1      1      0      1\n",
       "997     1     0     0     0     1     1     1     0     0      0      0      1\n",
       "998     1     0     1     1     0     0     0     1     1      0      1      0\n",
       "999     1     0     0     1     1     0     1     0     0      0      0      0\n",
       "\n",
       "[1000 rows x 12 columns]"
      ]
     },
     "execution_count": 136,
     "metadata": {},
     "output_type": "execute_result"
    }
   ],
   "source": [
    "df"
   ]
  },
  {
   "cell_type": "markdown",
   "id": "13077e26",
   "metadata": {},
   "source": [
    "## oxygen generator rating"
   ]
  },
  {
   "cell_type": "code",
   "execution_count": 214,
   "id": "6b710092",
   "metadata": {},
   "outputs": [
    {
     "name": "stdout",
     "output_type": "stream",
     "text": [
      "501\n",
      "257\n",
      "131\n",
      "69\n",
      "40\n",
      "21\n",
      "14\n",
      "7\n",
      "4\n",
      "3\n",
      "2\n",
      "1\n",
      "Int64Index([307], dtype='int64')\n"
     ]
    },
    {
     "data": {
      "text/plain": [
       "3089"
      ]
     },
     "execution_count": 214,
     "metadata": {},
     "output_type": "execute_result"
    }
   ],
   "source": [
    "df_ox = df.copy()\n",
    "\n",
    "for col in df_ox.columns:\n",
    "    if df_ox[col].value_counts()['0'] > df_ox[col].value_counts()['1']:\n",
    "        result_ox = 0\n",
    "    elif df_ox[col].value_counts()['0'] == df_ox[col].value_counts()['1']:\n",
    "        result_ox = 1\n",
    "    else:\n",
    "        result_ox = 1\n",
    "\n",
    "    df_ox = df_ox.loc[df_ox[col].astype(int) == result_ox]\n",
    "    print(len(df_ox))\n",
    "\n",
    "    if len(df_ox) == 1:\n",
    "        break\n",
    "\n",
    "print(df_ox.index)\n",
    "\n",
    "oxygen_generator_rating_list = df_ox.iloc[0].to_list()\n",
    "oxygen_generator_rating = int(''.join(oxygen_generator_rating_list),2)\n",
    "\n",
    "oxygen_generator_rating"
   ]
  },
  {
   "cell_type": "markdown",
   "id": "e8abf2be",
   "metadata": {},
   "source": [
    "## CO2 scrubber rating"
   ]
  },
  {
   "cell_type": "code",
   "execution_count": 210,
   "id": "a9b368ba",
   "metadata": {
    "scrolled": true
   },
   "outputs": [
    {
     "name": "stdout",
     "output_type": "stream",
     "text": [
      "499\n",
      "249\n",
      "116\n",
      "57\n",
      "27\n",
      "11\n",
      "5\n",
      "2\n",
      "1\n",
      "    seq_1 seq_2 seq_3 seq_4 seq_5 seq_6 seq_7 seq_8 seq_9 seq_10 seq_11 seq_12\n",
      "625     0     0     0     1     0     0     0     0     0      0      0      1\n"
     ]
    },
    {
     "data": {
      "text/plain": [
       "257"
      ]
     },
     "execution_count": 210,
     "metadata": {},
     "output_type": "execute_result"
    }
   ],
   "source": [
    "df_scr = df.copy()\n",
    "\n",
    "for col in df_scr.columns:\n",
    "    if df_scr[col].value_counts()['0'] < df_scr[col].value_counts()['1']:\n",
    "        result_scr = 0\n",
    "    elif df_scr[col].value_counts()['0'] == df_scr[col].value_counts()['1']:\n",
    "        result_scr = 0\n",
    "    else:\n",
    "        result_scr = 1\n",
    "\n",
    "    df_scr = df_scr.loc[df_scr[col].astype(int) == result_scr]\n",
    "    print(len(df_scr))\n",
    "    \n",
    "    if len(df_scr) == 1:\n",
    "        break\n",
    "\n",
    "print(df_scr)\n",
    "\n",
    "co2_scrubber_rating_list = df_scr.iloc[0].to_list()\n",
    "co2_scrubber_rating = int(''.join(co2_scrubber_rating_list),2)\n",
    "\n",
    "co2_scrubber_rating"
   ]
  },
  {
   "cell_type": "code",
   "execution_count": 215,
   "id": "0da35d84",
   "metadata": {},
   "outputs": [
    {
     "data": {
      "text/plain": [
       "793873"
      ]
     },
     "execution_count": 215,
     "metadata": {},
     "output_type": "execute_result"
    }
   ],
   "source": [
    "oxygen_generator_rating * co2_scrubber_rating"
   ]
  },
  {
   "cell_type": "markdown",
   "id": "bd54fa46",
   "metadata": {},
   "source": [
    "# Day 4: Giant Squid"
   ]
  },
  {
   "cell_type": "code",
   "execution_count": 100,
   "id": "be7621e1",
   "metadata": {},
   "outputs": [],
   "source": [
    "df = pd.read_excel('../Documents/AdventOfCode/20211204_aoc_input.xlsx',header=0,sheet_name='Tabelle1')    "
   ]
  },
  {
   "cell_type": "code",
   "execution_count": 109,
   "id": "fd110d3b",
   "metadata": {},
   "outputs": [],
   "source": [
    "# get a list of drawn numbers from input file\n",
    "drawn_numbers_df = df[:1]\n",
    "\n",
    "drawn_numbers = drawn_numbers_df.iloc[0].values[0].split(',')"
   ]
  },
  {
   "cell_type": "code",
   "execution_count": 101,
   "id": "6f544f58",
   "metadata": {},
   "outputs": [],
   "source": [
    "drawn_numbers = [57,9,8,30,40,62,24,70,54,73,12,3,71,95,58,88,23,81,53,80,22,45,98,37,18,72,14,20,66,0,19,31,82,34,55,29,27,96,48,28,87,83,36,26,63,21,5,46,33,86,32,56,6,38,52,16,41,74,99,77,13,35,65,4,78,91,90,43,1,2,64,60,94,85,61,84,42,76,68,10,49,89,11,17,79,69,39,50,25,51,47,93,44,92,59,75,7,97,67,15]"
   ]
  },
  {
   "cell_type": "code",
   "execution_count": 102,
   "id": "3237dafb",
   "metadata": {},
   "outputs": [
    {
     "name": "stderr",
     "output_type": "stream",
     "text": [
      "/Users/m304210/opt/anaconda3/lib/python3.8/site-packages/pandas/core/indexing.py:1637: SettingWithCopyWarning: \n",
      "A value is trying to be set on a copy of a slice from a DataFrame\n",
      "\n",
      "See the caveats in the documentation: https://pandas.pydata.org/pandas-docs/stable/user_guide/indexing.html#returning-a-view-versus-a-copy\n",
      "  self._setitem_single_block(indexer, value, name)\n"
     ]
    }
   ],
   "source": [
    "df_boards = df[1:]\n",
    "\n",
    "df_boards = df_boards.drawn_numbers.str.split(expand=True).reset_index(drop=True)\n",
    "df_boards.columns = ['col_0','col_1','col_2','col_3','col_4']\n",
    "df_boards['board'] = np.nan\n",
    "\n",
    "for ind in df_boards.index:\n",
    "    df_boards.board.iloc[ind] = str(np.floor(ind/5).astype(int))"
   ]
  },
  {
   "cell_type": "code",
   "execution_count": 103,
   "id": "bc8cb723",
   "metadata": {},
   "outputs": [],
   "source": [
    "df_orig = df_boards.copy()"
   ]
  },
  {
   "cell_type": "code",
   "execution_count": 110,
   "id": "c0c2c105",
   "metadata": {},
   "outputs": [],
   "source": [
    "for num in drawn_numbers:\n",
    "    df_boards[df_boards[['col_0','col_1','col_2','col_3','col_4']] == num] = drawn_numbers.index(num)"
   ]
  },
  {
   "cell_type": "code",
   "execution_count": 112,
   "id": "d46eb61f",
   "metadata": {},
   "outputs": [],
   "source": [
    "dict_boards = {}\n",
    "for i in df_boards.board.unique():\n",
    "    dict_boards[i] = df_boards[['col_0','col_1','col_2','col_3','col_4']].loc[df_boards.board == i]"
   ]
  },
  {
   "cell_type": "code",
   "execution_count": 113,
   "id": "b46d6caa",
   "metadata": {},
   "outputs": [],
   "source": [
    "df_result = pd.DataFrame(columns=['board_id','min_number','index'])"
   ]
  },
  {
   "cell_type": "code",
   "execution_count": 114,
   "id": "9270b480",
   "metadata": {},
   "outputs": [],
   "source": [
    "for board_id in dict_boards:\n",
    "    d_board = {}\n",
    "    for col in dict_boards[board_id].columns:\n",
    "        d_board[col] = dict_boards[board_id][col].max()\n",
    "\n",
    "    for row in dict_boards[board_id].index:\n",
    "        d_board[str(row)] = dict_boards[board_id].loc[row].max()\n",
    "    \n",
    "    min_val = min(d_board.values())\n",
    "    ind = min(d_board, key=d_board.get)\n",
    "    \n",
    "    df_result = df_result.append(pd.DataFrame([[board_id,min_val,ind]],columns=['board_id','min_number','index']))"
   ]
  },
  {
   "cell_type": "code",
   "execution_count": 116,
   "id": "fbddea61",
   "metadata": {},
   "outputs": [],
   "source": [
    "winner_board = df_result.loc[df_result.min_number == df_result.min_number.min(),'board_id'].values[0]\n",
    "\n",
    "winner_index = df_result.loc[df_result.board_id == winner_board,'index'].values[0]\n",
    "\n",
    "winner_step = df_result.loc[df_result.board_id == winner_board,'min_number'].values[0]\n",
    "\n",
    "df_winner_index = dict_boards[winner_board]\n",
    "df_winner = df_orig[['col_0','col_1','col_2','col_3','col_4']].loc[df_orig.board == winner_board]"
   ]
  },
  {
   "cell_type": "code",
   "execution_count": 127,
   "id": "017fac4a",
   "metadata": {},
   "outputs": [],
   "source": [
    "for col in df_winner_index.columns:\n",
    "    df_winner.loc[df_winner_index[col].astype(int) <= winner_step,col] = '0'\n",
    "\n",
    "result = df_winner.astype(int).values.sum() * int(drawn_numbers[winner_step])\n",
    "result"
   ]
  },
  {
   "cell_type": "code",
   "execution_count": null,
   "id": "f43b5761",
   "metadata": {},
   "outputs": [],
   "source": [
    "loser_board = df_result.loc[df_result.min_number == df_result.min_number.max(),'board_id'].values[0]\n",
    "\n",
    "loser_index = df_result.loc[df_result.board_id == loser_board,'index'].values[0]\n",
    "\n",
    "loser_step = df_result.loc[df_result.board_id == loser_board,'min_number'].values[0]\n",
    "\n",
    "df_loser_index = dict_boards[loser_board]\n",
    "df_loser = df_orig[['col_0','col_1','col_2','col_3','col_4']].loc[df_orig.board == loser_board]"
   ]
  },
  {
   "cell_type": "code",
   "execution_count": 133,
   "id": "06a31aea",
   "metadata": {},
   "outputs": [
    {
     "data": {
      "text/plain": [
       "24742"
      ]
     },
     "execution_count": 133,
     "metadata": {},
     "output_type": "execute_result"
    }
   ],
   "source": [
    "for col in df_loser_index.columns:\n",
    "    df_loser.loc[df_loser_index[col].astype(int) <= loser_step,col] = '0'\n",
    "\n",
    "result = df_loser.astype(int).values.sum() * int(drawn_numbers[loser_step])\n",
    "result"
   ]
  },
  {
   "cell_type": "markdown",
   "id": "d7b04dd5",
   "metadata": {},
   "source": [
    "# Day 5: Hydrothermal Venture"
   ]
  },
  {
   "cell_type": "code",
   "execution_count": 670,
   "id": "dac8199a",
   "metadata": {},
   "outputs": [],
   "source": [
    "df_input = pd.read_excel('../Documents/AdventOfCode/20211205_aoc_input.xlsx',header=None,sheet_name='Tabelle1')    "
   ]
  },
  {
   "cell_type": "code",
   "execution_count": 671,
   "id": "ca99fce3",
   "metadata": {},
   "outputs": [],
   "source": [
    "df = df_input[0].str.split(expand=True)\n",
    "df.drop([1],axis=1,inplace=True)"
   ]
  },
  {
   "cell_type": "code",
   "execution_count": 672,
   "id": "8cc0ba7b",
   "metadata": {},
   "outputs": [],
   "source": [
    "df[['x1','y1']] = df[0].str.split(pat=',',expand=True)\n",
    "df[['x2','y2']] = df[2].str.split(pat=',',expand=True)\n",
    "df.drop([0,2],axis=1,inplace=True)\n",
    "df = df.astype(int)"
   ]
  },
  {
   "cell_type": "code",
   "execution_count": 673,
   "id": "66e64cb2",
   "metadata": {},
   "outputs": [],
   "source": [
    "df_lim = df.loc[(df.x1 == df.x2) | (df.y1 == df.y2)]\n",
    "df_lim = df_lim.astype(int)"
   ]
  },
  {
   "cell_type": "code",
   "execution_count": 674,
   "id": "da260eb2",
   "metadata": {},
   "outputs": [],
   "source": [
    "df_new = df_lim.copy()\n",
    "df_new['x1'] = df_lim.loc[(df_lim.x1 > df_lim.x2),'x2'].astype(int)\n",
    "df_new['x1'].loc[df_new.x1.isnull()] = df_lim.loc[(df_lim.x1 <= df_lim.x2),'x1'].astype(int)\n",
    "df_new['x2'] = df_lim.loc[(df_lim.x1 > df_lim.x2),'x1'].astype(int)\n",
    "df_new['x2'].loc[df_new.x2.isnull()] = df_lim.loc[(df_lim.x1 <= df_lim.x2),'x2'].astype(int)\n",
    "df_new['y1'] = df_lim.loc[(df_lim.y1 > df_lim.y2),'y2'].astype(int)\n",
    "df_new['y1'].loc[df_new.y1.isnull()] = df_lim.loc[(df_lim.y1 <= df_lim.y2),'y1'].astype(int)\n",
    "df_new['y2'] = df_lim.loc[(df_lim.y1 > df_lim.y2),'y1'].astype(int)\n",
    "df_new['y2'].loc[df_new.y2.isnull()] = df_lim.loc[(df_lim.y1 <= df_lim.y2),'y2'].astype(int)\n",
    "df_lim = df_new.astype(int)"
   ]
  },
  {
   "cell_type": "code",
   "execution_count": 675,
   "id": "2a6b025c",
   "metadata": {},
   "outputs": [],
   "source": [
    "df_diag = df.loc[abs(df.x1-df.x2) == abs(df.y1-df.y2)]\n",
    "df_diag = df_diag.astype(int)"
   ]
  },
  {
   "cell_type": "code",
   "execution_count": 676,
   "id": "a4f16945",
   "metadata": {},
   "outputs": [],
   "source": [
    "max_x = max(df_lim.x1.max(),df_lim.x2.max())\n",
    "max_y = max(df_lim.y1.max(),df_lim.y2.max())"
   ]
  },
  {
   "cell_type": "code",
   "execution_count": 677,
   "id": "5308b032",
   "metadata": {},
   "outputs": [],
   "source": [
    "ls_dots_lim = []\n",
    "for ind in df_lim.index:\n",
    "    x1 = df_lim[['x1']].loc[ind].values[0]\n",
    "    x2 = df_lim[['x2']].loc[ind].values[0]\n",
    "    y1 = df_lim[['y1']].loc[ind].values[0]\n",
    "    y2 = df_lim[['y2']].loc[ind].values[0]\n",
    "    ls_dots_temp = [(x,y) for x in range(x1,x2+1) for y in range(y1,y2+1)]\n",
    "    if ls_dots_temp:\n",
    "        ls_dots_lim = ls_dots_lim + ls_dots_temp"
   ]
  },
  {
   "cell_type": "code",
   "execution_count": 678,
   "id": "aaeed205",
   "metadata": {},
   "outputs": [],
   "source": [
    "ls_dots_diag = []\n",
    "for ind in df_diag.index:\n",
    "    x1 = df_diag[['x1']].loc[ind].values[0]\n",
    "    x2 = df_diag[['x2']].loc[ind].values[0]\n",
    "    y1 = df_diag[['y1']].loc[ind].values[0]\n",
    "    y2 = df_diag[['y2']].loc[ind].values[0]\n",
    "    if (x1-x2 == y1-y2) & (x1 < x2):\n",
    "        ls_dots_temp = [(x1+i,y1+i) for i in range(x2-x1+1)]\n",
    "    elif (x1-x2 == (y1-y2)) & (x1 > x2):\n",
    "        ls_dots_temp = [(x1-i,y1-i) for i in range(x1-x2+1)]\n",
    "    elif (x1-x2 == -(y1-y2)) & (x1 > x2):\n",
    "        ls_dots_temp = [(x1-i,y1+i) for i in range(x1-x2+1)]\n",
    "    elif (x1-x2 == -(y1-y2)) & (x1 < x2):\n",
    "        ls_dots_temp = [(x1+i,y1-i) for i in range(x2-x1+1)]\n",
    "    else:\n",
    "        print(ind)\n",
    "        ls_dots_temp = []\n",
    "        \n",
    "    if ls_dots_temp:\n",
    "        ls_dots_diag = ls_dots_diag + ls_dots_temp"
   ]
  },
  {
   "cell_type": "code",
   "execution_count": 679,
   "id": "1eedacf6",
   "metadata": {},
   "outputs": [],
   "source": [
    "ls_dots_all = ls_dots_lim + ls_dots_diag\n",
    "set_dots = set(ls_dots_all)"
   ]
  },
  {
   "cell_type": "code",
   "execution_count": 686,
   "id": "f460ea2b",
   "metadata": {},
   "outputs": [],
   "source": [
    "df_result = pd.DataFrame(ls_dots_all)"
   ]
  },
  {
   "cell_type": "code",
   "execution_count": 691,
   "id": "d9ca35a0",
   "metadata": {},
   "outputs": [],
   "source": [
    "df_result['dot'] = df_result[0].astype(str) + ' ' + df_result[1].astype(str)"
   ]
  },
  {
   "cell_type": "code",
   "execution_count": null,
   "id": "e3c9da1a",
   "metadata": {},
   "outputs": [],
   "source": [
    "df_res = pd.DataFrame(df_result['dot'].value_counts(),columns=['dot'])"
   ]
  },
  {
   "cell_type": "code",
   "execution_count": 713,
   "id": "14c728cd",
   "metadata": {},
   "outputs": [
    {
     "data": {
      "text/plain": [
       "(21101, 1)"
      ]
     },
     "execution_count": 713,
     "metadata": {},
     "output_type": "execute_result"
    }
   ],
   "source": [
    "df_res[df_res['dot'] > 1].shape"
   ]
  },
  {
   "cell_type": "markdown",
   "id": "0831698a",
   "metadata": {},
   "source": [
    "# Day 6: Lanternfish"
   ]
  },
  {
   "cell_type": "code",
   "execution_count": 344,
   "id": "d05a58fe",
   "metadata": {},
   "outputs": [],
   "source": [
    "df_input = pd.read_excel('../Documents/AdventOfCode/20211206_aoc_input.xlsx',header=None,sheet_name='Tabelle1')    "
   ]
  },
  {
   "cell_type": "code",
   "execution_count": 345,
   "id": "3318340c",
   "metadata": {},
   "outputs": [],
   "source": [
    "df = df_input[0].str.split(pat=',',expand=True).transpose()\n",
    "#df.drop([1],axis=1,inplace=True)"
   ]
  },
  {
   "cell_type": "code",
   "execution_count": 347,
   "id": "968f8f3d",
   "metadata": {},
   "outputs": [],
   "source": [
    "df = df.rename(columns={0:'0'})"
   ]
  },
  {
   "cell_type": "code",
   "execution_count": 348,
   "id": "9f5bf80e",
   "metadata": {},
   "outputs": [],
   "source": [
    "df['0'] = df['0'].astype(int)"
   ]
  },
  {
   "cell_type": "code",
   "execution_count": 308,
   "id": "daa35680",
   "metadata": {},
   "outputs": [],
   "source": [
    "def new_col(x, prev_day, day):\n",
    "    if x[prev_day] == 0:\n",
    "        x[day] = 6\n",
    "    else:\n",
    "        x[day] = x[prev_day] - 1\n",
    "    return x\n",
    "\n",
    "#df = df.apply(lambda x: new_col(x,'input','1'), axis=1)"
   ]
  },
  {
   "cell_type": "code",
   "execution_count": null,
   "id": "19684393",
   "metadata": {},
   "outputs": [],
   "source": [
    "#for day in range(1,81):\n",
    "#    print(day)\n",
    "#    df[str(day)] = np.nan\n",
    "#    df = df.apply(lambda x: new_col(x,str(day-1),str(day)),axis=1)\n",
    "\n",
    "#    if 0 in df[str(day-1)]:\n",
    "#        num_zero = df[str(day-1)].loc[df[str(day-1)] == 0].shape[0]\n",
    "#        new_rows = pd.DataFrame(data=[[np.nan for i in range(day)] for j in range(num_zero)],\n",
    "#                                columns=[str(x+1) for x in range(day)])\n",
    "#        new_rows[str(day)] = 8\n",
    "#        df = df.append(new_rows)"
   ]
  },
  {
   "cell_type": "code",
   "execution_count": 233,
   "id": "077658c3",
   "metadata": {
    "scrolled": true
   },
   "outputs": [
    {
     "data": {
      "text/plain": [
       "380243"
      ]
     },
     "execution_count": 233,
     "metadata": {},
     "output_type": "execute_result"
    }
   ],
   "source": [
    "#result = df.shape[0]\n",
    "#result"
   ]
  },
  {
   "cell_type": "code",
   "execution_count": null,
   "id": "bb18eaca",
   "metadata": {},
   "outputs": [],
   "source": []
  },
  {
   "cell_type": "code",
   "execution_count": 351,
   "id": "021d13a5",
   "metadata": {},
   "outputs": [],
   "source": [
    "df_count = pd.DataFrame([0,0,0,0,0,0,0,0,0],columns=['init'])"
   ]
  },
  {
   "cell_type": "code",
   "execution_count": 353,
   "id": "2464e0f9",
   "metadata": {},
   "outputs": [],
   "source": [
    "df_init = pd.DataFrame(df.groupby('0').size(),columns=['0'])"
   ]
  },
  {
   "cell_type": "code",
   "execution_count": 355,
   "id": "a330d042",
   "metadata": {},
   "outputs": [],
   "source": [
    "df_count = df_count.join(\n",
    "    df_init,\n",
    "    how='left'\n",
    ").fillna(0)\n",
    "\n",
    "df_count.drop('init',axis=1,inplace=True)"
   ]
  },
  {
   "cell_type": "code",
   "execution_count": 363,
   "id": "d32bf447",
   "metadata": {},
   "outputs": [],
   "source": [
    "for day in range(1,257):\n",
    "    #print(day)\n",
    "    df_count[str(day)] = df_count[str(day-1)].shift(-1).fillna(0)\n",
    "    df_count[str(day)].loc[6] = df_count[str(day)].loc[6] + df_count[str(day-1)].loc[0]\n",
    "    df_count[str(day)].loc[8] = df_count[str(day)].loc[8] + df_count[str(day-1)].loc[0]"
   ]
  },
  {
   "cell_type": "code",
   "execution_count": 362,
   "id": "43517227",
   "metadata": {},
   "outputs": [
    {
     "data": {
      "text/plain": [
       "1708791884591.0"
      ]
     },
     "execution_count": 362,
     "metadata": {},
     "output_type": "execute_result"
    }
   ],
   "source": [
    "df_count['256'].sum()"
   ]
  },
  {
   "cell_type": "markdown",
   "id": "fc7a6b6d",
   "metadata": {},
   "source": [
    "# Day 7: The Treachery of Whales"
   ]
  },
  {
   "cell_type": "code",
   "execution_count": 82,
   "id": "cdadce40",
   "metadata": {},
   "outputs": [],
   "source": [
    "import pandas as pd\n",
    "import numpy as np\n",
    "df_input = pd.read_excel('../Documents/AdventOfCode/20211207_aoc_input.xlsx',header=None,sheet_name='Tabelle1')    "
   ]
  },
  {
   "cell_type": "code",
   "execution_count": 83,
   "id": "70f0c56f",
   "metadata": {},
   "outputs": [],
   "source": [
    "df = df_input[0].str.split(pat=',',expand=True).transpose()\n",
    "df = df.astype(int)"
   ]
  },
  {
   "cell_type": "code",
   "execution_count": 93,
   "id": "64413aff",
   "metadata": {},
   "outputs": [],
   "source": [
    "v = df[0]"
   ]
  },
  {
   "cell_type": "code",
   "execution_count": 32,
   "id": "49e0e657",
   "metadata": {},
   "outputs": [],
   "source": [
    "result_part1 = (df[0].astype(int) - df[0].astype(int).median()).abs().sum()"
   ]
  },
  {
   "cell_type": "code",
   "execution_count": 91,
   "id": "4a3c7bc7",
   "metadata": {},
   "outputs": [],
   "source": [
    "ls = []\n",
    "for i in range(v.max()):\n",
    "    s = ((v-i).abs()*((v-i).abs()+1)/2).sum()\n",
    "    ls.append(s)"
   ]
  },
  {
   "cell_type": "code",
   "execution_count": 92,
   "id": "91c3d488",
   "metadata": {},
   "outputs": [
    {
     "data": {
      "text/plain": [
       "98925151.0"
      ]
     },
     "execution_count": 92,
     "metadata": {},
     "output_type": "execute_result"
    }
   ],
   "source": [
    "result_part2 = min(ls)\n",
    "result_part2"
   ]
  },
  {
   "cell_type": "markdown",
   "id": "e1e1e1d8",
   "metadata": {},
   "source": [
    "# Day 8: Seven Segment Search"
   ]
  },
  {
   "cell_type": "code",
   "execution_count": 289,
   "id": "e9f38756",
   "metadata": {},
   "outputs": [],
   "source": [
    "df_input = pd.read_excel('../Documents/AdventOfCode/20211208_aoc_input.xlsx',header=None,sheet_name='Tabelle1')    "
   ]
  },
  {
   "cell_type": "code",
   "execution_count": 290,
   "id": "e7049319",
   "metadata": {},
   "outputs": [],
   "source": [
    "df = df_input[0].str.split(expand=True,pat=\"|\")"
   ]
  },
  {
   "cell_type": "code",
   "execution_count": 58,
   "id": "6c0a98c9",
   "metadata": {},
   "outputs": [],
   "source": [
    "df_output = df[1].str.split(expand=True)"
   ]
  },
  {
   "cell_type": "code",
   "execution_count": 60,
   "id": "4abfa4f2",
   "metadata": {},
   "outputs": [],
   "source": [
    "def string_len(x,col):\n",
    "    x[col] = x[col].str.len()\n",
    "\n",
    "#string_len(df_output,3)"
   ]
  },
  {
   "cell_type": "code",
   "execution_count": 61,
   "id": "e8fa84ee",
   "metadata": {},
   "outputs": [],
   "source": [
    "for col in df_output.columns:\n",
    "    string_len(df_output,col)"
   ]
  },
  {
   "cell_type": "code",
   "execution_count": 64,
   "id": "4a2e5029",
   "metadata": {},
   "outputs": [
    {
     "data": {
      "text/plain": [
       "355"
      ]
     },
     "execution_count": 64,
     "metadata": {},
     "output_type": "execute_result"
    }
   ],
   "source": [
    "result_part1 = df_output[df_output.isin([2,3,4,7])].count().sum()\n",
    "result_part1"
   ]
  },
  {
   "cell_type": "code",
   "execution_count": 291,
   "id": "8857a64a",
   "metadata": {},
   "outputs": [],
   "source": [
    "df = df_input[0].str.split(expand=True,pat='|')\n",
    "df_rule = df[0].str.split(expand=True)\n",
    "df_output = df[1].str.split(expand=True)"
   ]
  },
  {
   "cell_type": "code",
   "execution_count": 292,
   "id": "865cd96d",
   "metadata": {},
   "outputs": [],
   "source": [
    "result = 0\n",
    "for ind in range(df.shape[0]):\n",
    "    ls_rule = list(df_rule.iloc[ind])\n",
    "    \n",
    "    d = {}\n",
    "    d[1] = [x for x in ls_rule if len(x)==2][0]\n",
    "    ls_rule.remove(d[1])\n",
    "    d[7] = [x for x in ls_rule if len(x)==3][0]\n",
    "    ls_rule.remove(d[7])\n",
    "    d[4] = [x for x in ls_rule if len(x)==4][0]\n",
    "    ls_rule.remove(d[4])\n",
    "    d[8] = [x for x in ls_rule if len(x)==7][0]\n",
    "    ls_rule.remove(d[8])\n",
    "    d[9] = [x for x in ls_rule if set(d[4]).issubset(x) and set(d[7]).issubset(x) and len(x)==6][0]\n",
    "    ls_rule.remove(d[9])\n",
    "    d[0] = [x for x in ls_rule if set(d[7]).issubset(x) and len(x)==6][0]\n",
    "    ls_rule.remove(d[0])\n",
    "    d[6] = [x for x in ls_rule if len(x)==6][0]\n",
    "    ls_rule.remove(d[6])\n",
    "    d[3] = [x for x in ls_rule if len(x)==5 and set(d[1]).issubset(x)][0]\n",
    "    ls_rule.remove(d[3])\n",
    "    d[5] = [x for x in ls_rule if len(set(x).intersection(d[6]))==5][0]\n",
    "    ls_rule.remove(d[5])\n",
    "    d[2] = ls_rule[0]\n",
    "    \n",
    "    d2 = {k: set(v) for k, v in d.items()}\n",
    "    \n",
    "    ls_output = list(df_output.iloc[ind])\n",
    "    \n",
    "    result_row = list(d2.keys())[list(d2.values()).index(set(ls_output[0]))]*1000 \\\n",
    "        + list(d2.keys())[list(d2.values()).index(set(ls_output[1]))]*100 \\\n",
    "        + list(d2.keys())[list(d2.values()).index(set(ls_output[2]))]*10 \\\n",
    "        + list(d2.keys())[list(d2.values()).index(set(ls_output[3]))]\n",
    "    result = result + result_row"
   ]
  },
  {
   "cell_type": "code",
   "execution_count": 293,
   "id": "84522b53",
   "metadata": {},
   "outputs": [
    {
     "data": {
      "text/plain": [
       "983030"
      ]
     },
     "execution_count": 293,
     "metadata": {},
     "output_type": "execute_result"
    }
   ],
   "source": [
    "result"
   ]
  },
  {
   "cell_type": "code",
   "execution_count": null,
   "id": "f154cd14",
   "metadata": {},
   "outputs": [],
   "source": []
  }
 ],
 "metadata": {
  "kernelspec": {
   "display_name": "Python 3",
   "language": "python",
   "name": "python3"
  },
  "language_info": {
   "codemirror_mode": {
    "name": "ipython",
    "version": 3
   },
   "file_extension": ".py",
   "mimetype": "text/x-python",
   "name": "python",
   "nbconvert_exporter": "python",
   "pygments_lexer": "ipython3",
   "version": "3.8.8"
  }
 },
 "nbformat": 4,
 "nbformat_minor": 5
}
